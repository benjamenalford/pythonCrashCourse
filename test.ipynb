{
 "cells": [
  {
   "cell_type": "code",
   "execution_count": 6,
   "metadata": {},
   "outputs": [],
   "source": [
    "import pandas as pd \n"
   ]
  },
  {
   "cell_type": "code",
   "execution_count": 7,
   "metadata": {},
   "outputs": [
    {
     "data": {
      "text/plain": [
       "id                   int64\n",
       "status              object\n",
       "summary             object\n",
       "description         object\n",
       "lat                float64\n",
       "lng                float64\n",
       "address             object\n",
       "created_at          object\n",
       "acknowledged_at     object\n",
       "closed_at           object\n",
       "url                 object\n",
       "dtype: object"
      ]
     },
     "execution_count": 7,
     "metadata": {},
     "output_type": "execute_result"
    }
   ],
   "source": [
    "pd.read_csv(\"data/seeClickFix.csv\").dtypes"
   ]
  },
  {
   "cell_type": "code",
   "execution_count": 9,
   "metadata": {},
   "outputs": [
    {
     "data": {
      "text/html": [
       "<div>\n",
       "<style scoped>\n",
       "    .dataframe tbody tr th:only-of-type {\n",
       "        vertical-align: middle;\n",
       "    }\n",
       "\n",
       "    .dataframe tbody tr th {\n",
       "        vertical-align: top;\n",
       "    }\n",
       "\n",
       "    .dataframe thead th {\n",
       "        text-align: right;\n",
       "    }\n",
       "</style>\n",
       "<table border=\"1\" class=\"dataframe\">\n",
       "  <thead>\n",
       "    <tr style=\"text-align: right;\">\n",
       "      <th></th>\n",
       "      <th>id</th>\n",
       "      <th>status</th>\n",
       "      <th>summary</th>\n",
       "      <th>description</th>\n",
       "      <th>lat</th>\n",
       "      <th>lng</th>\n",
       "      <th>address</th>\n",
       "      <th>created_at</th>\n",
       "      <th>acknowledged_at</th>\n",
       "      <th>closed_at</th>\n",
       "      <th>url</th>\n",
       "    </tr>\n",
       "  </thead>\n",
       "  <tbody>\n",
       "    <tr>\n",
       "      <th>0</th>\n",
       "      <td>8763255</td>\n",
       "      <td>Acknowledged</td>\n",
       "      <td>Police General Issue</td>\n",
       "      <td>drug house at 3116 SE Emerson St Raven Coats a...</td>\n",
       "      <td>39.010001</td>\n",
       "      <td>-95.674248</td>\n",
       "      <td>3116 Se Emerson St Topeka, KS 66605, USA</td>\n",
       "      <td>2020-10-15T08:49:07-04:00</td>\n",
       "      <td>2020-10-15T08:49:28-04:00</td>\n",
       "      <td>NaN</td>\n",
       "      <td>https://seeclickfix.com/api/v2/issues/8763255</td>\n",
       "    </tr>\n",
       "    <tr>\n",
       "      <th>1</th>\n",
       "      <td>8887542</td>\n",
       "      <td>Archived</td>\n",
       "      <td>Property Maintenance &amp; Code Violations</td>\n",
       "      <td>Neighbor blowing leaves in her yard into the s...</td>\n",
       "      <td>39.003096</td>\n",
       "      <td>-95.701271</td>\n",
       "      <td>1917 Sw Tara Ave Topeka Ks 66611</td>\n",
       "      <td>2020-11-09T14:47:16-05:00</td>\n",
       "      <td>2020-11-09T14:47:27-05:00</td>\n",
       "      <td>2020-11-18T18:10:41-05:00</td>\n",
       "      <td>https://seeclickfix.com/api/v2/issues/8887542</td>\n",
       "    </tr>\n",
       "    <tr>\n",
       "      <th>2</th>\n",
       "      <td>8759788</td>\n",
       "      <td>Acknowledged</td>\n",
       "      <td>Mailbox Install/Repair/Replacement</td>\n",
       "      <td>got a call about a mailbox that was disturbed ...</td>\n",
       "      <td>39.009192</td>\n",
       "      <td>-95.939654</td>\n",
       "      <td>13724 Sw 33rd St Topeka, KS, 66614, USA</td>\n",
       "      <td>2020-10-14T16:39:36-04:00</td>\n",
       "      <td>2020-10-14T16:39:38-04:00</td>\n",
       "      <td>NaN</td>\n",
       "      <td>https://seeclickfix.com/api/v2/issues/8759788</td>\n",
       "    </tr>\n",
       "    <tr>\n",
       "      <th>3</th>\n",
       "      <td>8759866</td>\n",
       "      <td>Acknowledged</td>\n",
       "      <td>Street Sign Repair</td>\n",
       "      <td>This is an unsafe intersection next to a schoo...</td>\n",
       "      <td>39.039762</td>\n",
       "      <td>-95.694420</td>\n",
       "      <td>1510 Sw Lane St Topeka 66604, United States</td>\n",
       "      <td>2020-10-14T16:59:16-04:00</td>\n",
       "      <td>2020-10-14T16:59:23-04:00</td>\n",
       "      <td>NaN</td>\n",
       "      <td>https://seeclickfix.com/api/v2/issues/8759866</td>\n",
       "    </tr>\n",
       "    <tr>\n",
       "      <th>4</th>\n",
       "      <td>8759341</td>\n",
       "      <td>Acknowledged</td>\n",
       "      <td>Property Maintenance &amp; Code Violations</td>\n",
       "      <td>Neighbor across the street isn’t maintaining t...</td>\n",
       "      <td>39.036108</td>\n",
       "      <td>-95.648617</td>\n",
       "      <td>2036 Se 11th Terr Topeka 66607, United States</td>\n",
       "      <td>2020-10-14T15:11:24-04:00</td>\n",
       "      <td>2020-10-14T16:06:01-04:00</td>\n",
       "      <td>NaN</td>\n",
       "      <td>https://seeclickfix.com/api/v2/issues/8759341</td>\n",
       "    </tr>\n",
       "  </tbody>\n",
       "</table>\n",
       "</div>"
      ],
      "text/plain": [
       "        id        status                                 summary  \\\n",
       "0  8763255  Acknowledged                    Police General Issue   \n",
       "1  8887542      Archived  Property Maintenance & Code Violations   \n",
       "2  8759788  Acknowledged      Mailbox Install/Repair/Replacement   \n",
       "3  8759866  Acknowledged                      Street Sign Repair   \n",
       "4  8759341  Acknowledged  Property Maintenance & Code Violations   \n",
       "\n",
       "                                         description        lat        lng  \\\n",
       "0  drug house at 3116 SE Emerson St Raven Coats a...  39.010001 -95.674248   \n",
       "1  Neighbor blowing leaves in her yard into the s...  39.003096 -95.701271   \n",
       "2  got a call about a mailbox that was disturbed ...  39.009192 -95.939654   \n",
       "3  This is an unsafe intersection next to a schoo...  39.039762 -95.694420   \n",
       "4  Neighbor across the street isn’t maintaining t...  39.036108 -95.648617   \n",
       "\n",
       "                                         address                 created_at  \\\n",
       "0       3116 Se Emerson St Topeka, KS 66605, USA  2020-10-15T08:49:07-04:00   \n",
       "1               1917 Sw Tara Ave Topeka Ks 66611  2020-11-09T14:47:16-05:00   \n",
       "2        13724 Sw 33rd St Topeka, KS, 66614, USA  2020-10-14T16:39:36-04:00   \n",
       "3    1510 Sw Lane St Topeka 66604, United States  2020-10-14T16:59:16-04:00   \n",
       "4  2036 Se 11th Terr Topeka 66607, United States  2020-10-14T15:11:24-04:00   \n",
       "\n",
       "             acknowledged_at                  closed_at  \\\n",
       "0  2020-10-15T08:49:28-04:00                        NaN   \n",
       "1  2020-11-09T14:47:27-05:00  2020-11-18T18:10:41-05:00   \n",
       "2  2020-10-14T16:39:38-04:00                        NaN   \n",
       "3  2020-10-14T16:59:23-04:00                        NaN   \n",
       "4  2020-10-14T16:06:01-04:00                        NaN   \n",
       "\n",
       "                                             url  \n",
       "0  https://seeclickfix.com/api/v2/issues/8763255  \n",
       "1  https://seeclickfix.com/api/v2/issues/8887542  \n",
       "2  https://seeclickfix.com/api/v2/issues/8759788  \n",
       "3  https://seeclickfix.com/api/v2/issues/8759866  \n",
       "4  https://seeclickfix.com/api/v2/issues/8759341  "
      ]
     },
     "execution_count": 9,
     "metadata": {},
     "output_type": "execute_result"
    }
   ],
   "source": [
    "issues_df = pd.read_csv(\"data/seeClickFix.csv\")\n",
    "issues_df.head()"
   ]
  },
  {
   "cell_type": "code",
   "execution_count": 21,
   "metadata": {},
   "outputs": [
    {
     "ename": "AttributeError",
     "evalue": "'DataFrame' object has no attribute 'unique'",
     "output_type": "error",
     "traceback": [
      "\u001b[0;31m---------------------------------------------------------------------------\u001b[0m",
      "\u001b[0;31mAttributeError\u001b[0m                            Traceback (most recent call last)",
      "\u001b[0;32m<ipython-input-21-2989ca82822a>\u001b[0m in \u001b[0;36m<module>\u001b[0;34m\u001b[0m\n\u001b[0;32m----> 1\u001b[0;31m \u001b[0mlen\u001b[0m\u001b[0;34m(\u001b[0m\u001b[0missues_df\u001b[0m\u001b[0;34m.\u001b[0m\u001b[0munique\u001b[0m\u001b[0;34m(\u001b[0m\u001b[0;34m'id'\u001b[0m\u001b[0;34m)\u001b[0m\u001b[0;34m)\u001b[0m\u001b[0;34m\u001b[0m\u001b[0;34m\u001b[0m\u001b[0m\n\u001b[0m",
      "\u001b[0;32m/Library/Frameworks/Python.framework/Versions/3.8/lib/python3.8/site-packages/pandas/core/generic.py\u001b[0m in \u001b[0;36m__getattr__\u001b[0;34m(self, name)\u001b[0m\n\u001b[1;32m   5272\u001b[0m             \u001b[0;32mif\u001b[0m \u001b[0mself\u001b[0m\u001b[0;34m.\u001b[0m\u001b[0m_info_axis\u001b[0m\u001b[0;34m.\u001b[0m\u001b[0m_can_hold_identifiers_and_holds_name\u001b[0m\u001b[0;34m(\u001b[0m\u001b[0mname\u001b[0m\u001b[0;34m)\u001b[0m\u001b[0;34m:\u001b[0m\u001b[0;34m\u001b[0m\u001b[0;34m\u001b[0m\u001b[0m\n\u001b[1;32m   5273\u001b[0m                 \u001b[0;32mreturn\u001b[0m \u001b[0mself\u001b[0m\u001b[0;34m[\u001b[0m\u001b[0mname\u001b[0m\u001b[0;34m]\u001b[0m\u001b[0;34m\u001b[0m\u001b[0;34m\u001b[0m\u001b[0m\n\u001b[0;32m-> 5274\u001b[0;31m             \u001b[0;32mreturn\u001b[0m \u001b[0mobject\u001b[0m\u001b[0;34m.\u001b[0m\u001b[0m__getattribute__\u001b[0m\u001b[0;34m(\u001b[0m\u001b[0mself\u001b[0m\u001b[0;34m,\u001b[0m \u001b[0mname\u001b[0m\u001b[0;34m)\u001b[0m\u001b[0;34m\u001b[0m\u001b[0;34m\u001b[0m\u001b[0m\n\u001b[0m\u001b[1;32m   5275\u001b[0m \u001b[0;34m\u001b[0m\u001b[0m\n\u001b[1;32m   5276\u001b[0m     \u001b[0;32mdef\u001b[0m \u001b[0m__setattr__\u001b[0m\u001b[0;34m(\u001b[0m\u001b[0mself\u001b[0m\u001b[0;34m,\u001b[0m \u001b[0mname\u001b[0m\u001b[0;34m:\u001b[0m \u001b[0mstr\u001b[0m\u001b[0;34m,\u001b[0m \u001b[0mvalue\u001b[0m\u001b[0;34m)\u001b[0m \u001b[0;34m->\u001b[0m \u001b[0;32mNone\u001b[0m\u001b[0;34m:\u001b[0m\u001b[0;34m\u001b[0m\u001b[0;34m\u001b[0m\u001b[0m\n",
      "\u001b[0;31mAttributeError\u001b[0m: 'DataFrame' object has no attribute 'unique'"
     ]
    }
   ],
   "source": []
  },
  {
   "cell_type": "code",
   "execution_count": 10,
   "metadata": {},
   "outputs": [
    {
     "data": {
      "text/plain": [
       "9080"
      ]
     },
     "execution_count": 10,
     "metadata": {},
     "output_type": "execute_result"
    }
   ],
   "source": [
    "issues_df[\"id\"].count()"
   ]
  },
  {
   "cell_type": "code",
   "execution_count": 42,
   "metadata": {},
   "outputs": [
    {
     "data": {
      "text/plain": [
       "2019-06-17T12:11:13-04:00    11\n",
       "2019-06-17T12:11:39-04:00     9\n",
       "2019-06-17T12:00:49-04:00     6\n",
       "2019-07-17T05:01:08-04:00     6\n",
       "2019-06-17T12:22:46-04:00     6\n",
       "                             ..\n",
       "2020-06-26T09:54:08-04:00     1\n",
       "2020-02-28T12:42:51-05:00     1\n",
       "2020-08-10T23:00:58-04:00     1\n",
       "2019-10-23T15:51:04-04:00     1\n",
       "2019-08-02T12:53:27-04:00     1\n",
       "Name: closed_at, Length: 7877, dtype: int64"
      ]
     },
     "execution_count": 42,
     "metadata": {},
     "output_type": "execute_result"
    }
   ],
   "source": [
    "issues_df[\"closed_at\"].value_counts()"
   ]
  },
  {
   "cell_type": "code",
   "execution_count": 45,
   "metadata": {},
   "outputs": [],
   "source": [
    "open_issues_df = issues_df.loc[issues_df[\"closed_at\"] == \"\", : ]"
   ]
  },
  {
   "cell_type": "code",
   "execution_count": 46,
   "metadata": {},
   "outputs": [
    {
     "data": {
      "text/html": [
       "<div>\n",
       "<style scoped>\n",
       "    .dataframe tbody tr th:only-of-type {\n",
       "        vertical-align: middle;\n",
       "    }\n",
       "\n",
       "    .dataframe tbody tr th {\n",
       "        vertical-align: top;\n",
       "    }\n",
       "\n",
       "    .dataframe thead th {\n",
       "        text-align: right;\n",
       "    }\n",
       "</style>\n",
       "<table border=\"1\" class=\"dataframe\">\n",
       "  <thead>\n",
       "    <tr style=\"text-align: right;\">\n",
       "      <th></th>\n",
       "      <th>id</th>\n",
       "      <th>lat</th>\n",
       "      <th>lng</th>\n",
       "    </tr>\n",
       "  </thead>\n",
       "  <tbody>\n",
       "    <tr>\n",
       "      <th>count</th>\n",
       "      <td>0.0</td>\n",
       "      <td>0.0</td>\n",
       "      <td>0.0</td>\n",
       "    </tr>\n",
       "    <tr>\n",
       "      <th>mean</th>\n",
       "      <td>NaN</td>\n",
       "      <td>NaN</td>\n",
       "      <td>NaN</td>\n",
       "    </tr>\n",
       "    <tr>\n",
       "      <th>std</th>\n",
       "      <td>NaN</td>\n",
       "      <td>NaN</td>\n",
       "      <td>NaN</td>\n",
       "    </tr>\n",
       "    <tr>\n",
       "      <th>min</th>\n",
       "      <td>NaN</td>\n",
       "      <td>NaN</td>\n",
       "      <td>NaN</td>\n",
       "    </tr>\n",
       "    <tr>\n",
       "      <th>25%</th>\n",
       "      <td>NaN</td>\n",
       "      <td>NaN</td>\n",
       "      <td>NaN</td>\n",
       "    </tr>\n",
       "    <tr>\n",
       "      <th>50%</th>\n",
       "      <td>NaN</td>\n",
       "      <td>NaN</td>\n",
       "      <td>NaN</td>\n",
       "    </tr>\n",
       "    <tr>\n",
       "      <th>75%</th>\n",
       "      <td>NaN</td>\n",
       "      <td>NaN</td>\n",
       "      <td>NaN</td>\n",
       "    </tr>\n",
       "    <tr>\n",
       "      <th>max</th>\n",
       "      <td>NaN</td>\n",
       "      <td>NaN</td>\n",
       "      <td>NaN</td>\n",
       "    </tr>\n",
       "  </tbody>\n",
       "</table>\n",
       "</div>"
      ],
      "text/plain": [
       "        id  lat  lng\n",
       "count  0.0  0.0  0.0\n",
       "mean   NaN  NaN  NaN\n",
       "std    NaN  NaN  NaN\n",
       "min    NaN  NaN  NaN\n",
       "25%    NaN  NaN  NaN\n",
       "50%    NaN  NaN  NaN\n",
       "75%    NaN  NaN  NaN\n",
       "max    NaN  NaN  NaN"
      ]
     },
     "execution_count": 46,
     "metadata": {},
     "output_type": "execute_result"
    }
   ],
   "source": [
    "open_issues_df.describe()"
   ]
  },
  {
   "cell_type": "code",
   "execution_count": null,
   "metadata": {},
   "outputs": [],
   "source": []
  }
 ],
 "metadata": {
  "kernelspec": {
   "display_name": "Python 3",
   "language": "python",
   "name": "python3"
  },
  "language_info": {
   "codemirror_mode": {
    "name": "ipython",
    "version": 3
   },
   "file_extension": ".py",
   "mimetype": "text/x-python",
   "name": "python",
   "nbconvert_exporter": "python",
   "pygments_lexer": "ipython3",
   "version": "3.8.2"
  }
 },
 "nbformat": 4,
 "nbformat_minor": 2
}
